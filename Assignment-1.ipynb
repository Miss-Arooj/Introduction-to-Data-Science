{
  "nbformat": 4,
  "nbformat_minor": 0,
  "metadata": {
    "colab": {
      "provenance": [],
      "collapsed_sections": []
    },
    "kernelspec": {
      "name": "python3",
      "display_name": "Python 3"
    },
    "language_info": {
      "name": "python"
    }
  },
  "cells": [
    {
      "cell_type": "markdown",
      "source": [
        "# Introduction To Data Science – Assignment 1\n",
        "\n",
        "---\n",
        "\n",
        "### Sections A – B – C – D\n",
        "\n",
        "---\n",
        "\n",
        "***Instructions***\n",
        "\n",
        "Due Date: Sunday 18th September 2022 – 11:59PM\n",
        "\n",
        "Name the file in the format Lyyxxxx and save it as .ipynb (e.g. L201234.ipynb)\n",
        "\n",
        "Submission will be taken on **GitHub and Google Classroom (submit the .ipynb file)** - Instructions to upload onto GitHub are provided in the link https://docs.google.com/document/d/1BR1ULOGeGWJVU6Rr6Qty1FR-quVRZyRvQGII6nEs-wo/edit?usp=sharing\n",
        "\n",
        "After uploading and submitting the .ipynb file onto Google Classroom, also private comment the link to the GitHub repository.\n",
        "\n",
        "All source files needed to complete this assignment can be found on the following Google Drive link https://drive.google.com/drive/folders/1VrkaVcExGWqilSeh50WZe4gUBjmUiJ9b?usp=sharing\n",
        "\n",
        "TA Emails\n",
        "\n",
        "Section A, C - Muhammad Maarij l192347@lhr.nu.edu.pk\n",
        "\n",
        "Section B, D - Hira Ijaz l192377@lhr.nu.edu.pk\n",
        "\n",
        "Happy Coding 😊\n",
        "\n",
        "---"
      ],
      "metadata": {
        "id": "TWWLTwYZorzC"
      }
    },
    {
      "cell_type": "markdown",
      "source": [
        "---\n",
        "## Question 1\n",
        "---"
      ],
      "metadata": {
        "id": "arB_0r9H0jjC"
      }
    },
    {
      "cell_type": "markdown",
      "source": [
        "Define a procedure called \"check_input\" that takes an input as a square list of lists (2D Matrix of N x N) and returns a boolen \"true\" if the input is valid or \"false\" otherwise, according to the following criteria.\n",
        "\n",
        "1. Each coloumn must contain numbers from between 1 and N, with no duplicates.\n",
        "2. Each row must contain numbers from between 1 and N, with no duplicates."
      ],
      "metadata": {
        "id": "qHPTNDy30n99"
      }
    },
    {
      "cell_type": "code",
      "source": [
        "# define procedure here\n",
        "def check_input(list):\n",
        "  n=(len(list))\n",
        "  check = bool(False)\n",
        "\n",
        "  # check row wise\n",
        "  r=0\n",
        "  while r<n:\n",
        "    c=0\n",
        "    while c<n-1:\n",
        "      i=c+1\n",
        "      while i<n:\n",
        "        if (list[r][c] == list[r][i] or str(list[r][c]).isalpha() or str(list[r][i]).isalpha()):\n",
        "          check=bool(False)\n",
        "          return check\n",
        "        else:\n",
        "          check=bool(True)\n",
        "          i = i+1\n",
        "      c = c+1\n",
        "    r = r+1\n",
        "\n",
        "  # check column wise\n",
        "  c=0\n",
        "  while c<n:\n",
        "    r=0\n",
        "    while r<n-1:\n",
        "      i=r+1\n",
        "      while i<n:\n",
        "        if list[r][c] == list[i][c]:\n",
        "          check=bool(False)\n",
        "          return check\n",
        "        else:\n",
        "          check=bool(True)\n",
        "          i = i+1\n",
        "      r = r+1\n",
        "    c = c+1\n",
        "\n",
        "  return check             "
      ],
      "metadata": {
        "id": "S2_Zic322Lt7"
      },
      "execution_count": 35,
      "outputs": []
    },
    {
      "cell_type": "code",
      "source": [
        "# run this block to test code after defining the procedure\n",
        "\n",
        "test1 = [[1, 2, 3],\n",
        "        [2, 3, 1],\n",
        "        [3, 1, 2]]\n",
        "\n",
        "test2 = [[1, 2, 3, 4],\n",
        "        [2, 3, 1, 3],\n",
        "        [3, 1, 2, 3],\n",
        "        [4, 4, 4, 4]]\n",
        "\n",
        "test3 = [['a', 'b', 'c'],\n",
        "        ['b', 'c', 'a'],\n",
        "        ['c', 'a', 'b']]\n",
        "\n",
        "print(check_input(test1)) # must return true\n",
        "print(check_input(test2)) # must return false\n",
        "print(check_input(test3)) # must return false"
      ],
      "metadata": {
        "id": "wdL9MWgq2ZbP",
        "colab": {
          "base_uri": "https://localhost:8080/"
        },
        "outputId": "ec1a96e9-d4f2-49e1-aafc-f1d93d00da60"
      },
      "execution_count": 34,
      "outputs": [
        {
          "output_type": "stream",
          "name": "stdout",
          "text": [
            "True\n",
            "False\n",
            "False\n"
          ]
        }
      ]
    },
    {
      "cell_type": "markdown",
      "source": [
        "---\n",
        "## Question 2\n",
        "---"
      ],
      "metadata": {
        "id": "4RVTlnhWqOUC"
      }
    },
    {
      "cell_type": "markdown",
      "source": [
        "**Part A** - Import the file \"StudentMarkSheet.csv\" as a Pandas DataFrame and print the information for the dataframe"
      ],
      "metadata": {
        "id": "Uyc7JPtNt0pR"
      }
    },
    {
      "cell_type": "code",
      "execution_count": 28,
      "metadata": {
        "id": "wYrt7e6Xop2P"
      },
      "outputs": [],
      "source": [
        "import pandas as pd\n",
        "data=pd.read_csv(\"/StudentMarkSheet.csv\")"
      ]
    },
    {
      "cell_type": "markdown",
      "source": [
        "**Part B** - Remove any rows that do not contain all the data. Also print the following information.\n",
        "\n",
        "1. Number of rows before\n",
        "2. Number of rows containing null data\n",
        "3. Number of rows after"
      ],
      "metadata": {
        "id": "jIaMvgcft_i0"
      }
    },
    {
      "cell_type": "code",
      "source": [
        "new_data = data.dropna()\n",
        "print(\"Number of rows before: \",len(data))\n",
        "print(\"Number of rows containing null data: \",data.isna().sum().sum())\n",
        "print(\"Number of rows after: \",len(new_data))"
      ],
      "metadata": {
        "id": "_ov_SWdxuZUm",
        "colab": {
          "base_uri": "https://localhost:8080/"
        },
        "outputId": "a545eedd-9d7e-4661-c7d8-38f55922f4b5"
      },
      "execution_count": 29,
      "outputs": [
        {
          "output_type": "stream",
          "name": "stdout",
          "text": [
            "Number of rows before:  200\n",
            "Number of rows containing null data:  4\n",
            "Number of rows after:  196\n"
          ]
        }
      ]
    },
    {
      "cell_type": "markdown",
      "source": [
        "**Part C** - Print all the marks along with the subject for the student named \"James Walker\""
      ],
      "metadata": {
        "id": "2kd9zAX6wkXM"
      }
    },
    {
      "cell_type": "code",
      "source": [
        "new_data1=new_data.loc[new_data['Student name'] == 'James Walker']\n",
        "print(new_data1.loc[:, new_data1.columns != 'Exam date'])"
      ],
      "metadata": {
        "id": "N0HWJN-PwuSo",
        "colab": {
          "base_uri": "https://localhost:8080/"
        },
        "outputId": "7a9416a2-e2d7-4cfb-8c69-f6302b6fb5a0"
      },
      "execution_count": 30,
      "outputs": [
        {
          "output_type": "stream",
          "name": "stdout",
          "text": [
            "     Student name    Exam name  Marks\n",
            "0    James Walker      Biology   31.0\n",
            "42   James Walker    Chemistry   61.0\n",
            "71   James Walker  Mathematics   23.0\n",
            "150  James Walker      Physics  100.0\n",
            "180  James Walker    Sociology   73.0\n"
          ]
        }
      ]
    },
    {
      "cell_type": "markdown",
      "source": [
        "---\n",
        "## Question 3\n",
        "---"
      ],
      "metadata": {
        "id": "ts8Y1EXmwzhf"
      }
    },
    {
      "cell_type": "markdown",
      "source": [
        "**Part A** - From the DataFrame created in Question 2, calculate the average marks for each subject"
      ],
      "metadata": {
        "id": "PJENm_hpw3GQ"
      }
    },
    {
      "cell_type": "code",
      "source": [
        "new_d1=(new_data.loc[new_data['Exam name'] == 'Biology'])\n",
        "avg_val=sum(new_d1.loc[: ,\"Marks\"]) / len(new_d1.loc[: ,\"Marks\"])\n",
        "print(\"Average marks for Biology: \", avg_val)\n",
        "new_d1=(new_data.loc[new_data['Exam name'] == 'Chemistry'])\n",
        "avg_val1=sum(new_d1.loc[: ,\"Marks\"]) / len(new_d1.loc[: ,\"Marks\"])\n",
        "print(\"Average marks for Chemistry: \", avg_val1)\n",
        "new_d1=(new_data.loc[new_data['Exam name'] == 'Mathematics'])\n",
        "avg_val2=sum(new_d1.loc[: ,\"Marks\"]) / len(new_d1.loc[: ,\"Marks\"])\n",
        "print(\"Average marks for Mathematics: \", avg_val2)\n",
        "new_d1=(new_data.loc[new_data['Exam name'] == 'Philosophy'])\n",
        "avg_val3=sum(new_d1.loc[: ,\"Marks\"]) / len(new_d1.loc[: ,\"Marks\"])\n",
        "print(\"Average marks for Philosophy: \", avg_val3)\n",
        "new_d1=(new_data.loc[new_data['Exam name'] == 'Physics'])\n",
        "avg_val4=sum(new_d1.loc[: ,\"Marks\"]) / len(new_d1.loc[: ,\"Marks\"])\n",
        "print(\"Average marks for Physics: \", avg_val4)\n",
        "new_d1=(new_data.loc[new_data['Exam name'] == 'Sociology'])\n",
        "avg_val5=sum(new_d1.loc[: ,\"Marks\"]) / len(new_d1.loc[: ,\"Marks\"])\n",
        "print(\"Average marks for Sociology: \", avg_val5)"
      ],
      "metadata": {
        "id": "AxhCtST5xS3L",
        "colab": {
          "base_uri": "https://localhost:8080/"
        },
        "outputId": "f8d5cd14-f447-4f3b-a66c-3ded4be121d7"
      },
      "execution_count": 31,
      "outputs": [
        {
          "output_type": "stream",
          "name": "stdout",
          "text": [
            "Average marks for Biology:  47.89473684210526\n",
            "Average marks for Chemistry:  50.57692307692308\n",
            "Average marks for Mathematics:  48.97222222222222\n",
            "Average marks for Philosophy:  47.270270270270274\n",
            "Average marks for Physics:  51.76190476190476\n",
            "Average marks for Sociology:  56.026315789473685\n"
          ]
        }
      ]
    },
    {
      "cell_type": "markdown",
      "source": [
        "**Part B** - Using the averages you just calculated, plot a Bar Graph showing the average marks of each subject"
      ],
      "metadata": {
        "id": "NDlaA7hHxUBc"
      }
    },
    {
      "cell_type": "code",
      "source": [
        "import matplotlib.pyplot as plt\n",
        "import numpy as np\n",
        "x=np.array([\"Biology\",\"Chemistry\",\"Math\",\"Philosophy\",\"Physics\",\"Sociology\"])\n",
        "y=np.array([avg_val,avg_val1,avg_val2,avg_val3,avg_val4,avg_val5])\n",
        "plt.bar(x,y)\n",
        "plt.show()"
      ],
      "metadata": {
        "id": "LWoPFZBOyyNn",
        "colab": {
          "base_uri": "https://localhost:8080/",
          "height": 265
        },
        "outputId": "40a331b9-a701-4b23-d69a-0c46e6579c93"
      },
      "execution_count": 32,
      "outputs": [
        {
          "output_type": "display_data",
          "data": {
            "text/plain": [
              "<Figure size 432x288 with 1 Axes>"
            ],
            "image/png": "[encoded data removed]"
          },
          "metadata": {
            "needs_background": "light"
          }
        }
      ]
    },
    {
      "cell_type": "markdown",
      "source": [
        "---\n",
        "## Question 4\n",
        "---"
      ],
      "metadata": {
        "id": "dWlOSOIs6d1R"
      }
    },
    {
      "cell_type": "markdown",
      "source": [
        "**Part A** - Import the file \"CatData.csv\" and preprocess it to remove any null values"
      ],
      "metadata": {
        "id": "b4s-pN4v6kgb"
      }
    },
    {
      "cell_type": "code",
      "source": [
        "import pandas as pd\n",
        "data=pd.read_csv(\"/CatData.csv\")\n",
        "new_data = data.dropna()\n",
        "print(\"Number of rows before: \",len(data))\n",
        "print(\"Number of rows containing null data: \",data.isna().sum().sum())\n",
        "print(\"Number of rows after: \",len(new_data))"
      ],
      "metadata": {
        "id": "mvZ3xrBV9b1s",
        "colab": {
          "base_uri": "https://localhost:8080/"
        },
        "outputId": "071b74ee-7a41-4e5b-9989-c22a048fbd49"
      },
      "execution_count": 21,
      "outputs": [
        {
          "output_type": "stream",
          "name": "stdout",
          "text": [
            "Number of rows before:  342\n",
            "Number of rows containing null data:  0\n",
            "Number of rows after:  342\n"
          ]
        }
      ]
    },
    {
      "cell_type": "markdown",
      "source": [
        "**Part B** - Identify the independant and dependant variables (comment answer below)"
      ],
      "metadata": {
        "id": "bWxuB3ep9SWA"
      }
    },
    {
      "cell_type": "code",
      "source": [
        "# dependant variable: y : Mass(kg)\n",
        "# independant variable: x : Tail Length(cm)"
      ],
      "metadata": {
        "id": "TS9tvuRt9cWr"
      },
      "execution_count": null,
      "outputs": []
    },
    {
      "cell_type": "markdown",
      "source": [
        "**Part C** - Create a linear regression model using sklearn and fit it to the data you just imported\n"
      ],
      "metadata": {
        "id": "xPHVA3cX7uk9"
      }
    },
    {
      "cell_type": "code",
      "source": [
        "import numpy as np\n",
        "import matplotlib.pyplot as plt\n",
        "\n",
        "from sklearn.model_selection import train_test_split\n",
        "x = data.loc[:, data.columns == 'Tail Length (cm)']\n",
        "y = data.loc[:, data.columns == 'Mass (kg)']\n",
        "num=int(len(data)*0.8)\n",
        "x_train, x_test, y_train, y_test = train_test_split(x, y, test_size = 0.2, random_state = num)\n",
        "from sklearn.linear_model import LinearRegression\n",
        "model=LinearRegression()\n",
        "model.fit(x_train, y_train)"
      ],
      "metadata": {
        "id": "WYVNRotH9cyo",
        "colab": {
          "base_uri": "https://localhost:8080/"
        },
        "outputId": "3f8837ad-af2f-4471-b018-ec8a479f1982"
      },
      "execution_count": 24,
      "outputs": [
        {
          "output_type": "execute_result",
          "data": {
            "text/plain": [
              "LinearRegression()"
            ]
          },
          "metadata": {},
          "execution_count": 24
        }
      ]
    },
    {
      "cell_type": "markdown",
      "source": [
        "**Part D** - Print the values for slope and y-intercept"
      ],
      "metadata": {
        "id": "0QMipKhb830G"
      }
    },
    {
      "cell_type": "code",
      "source": [
        "model.fit(x_train, y_train)\n",
        "print(\"slope = \", model.coef_)\n",
        "print(\"y-intercept = \", model.intercept_)"
      ],
      "metadata": {
        "id": "R7cvi3KB9dJh",
        "colab": {
          "base_uri": "https://localhost:8080/"
        },
        "outputId": "76cc70c7-528e-4289-b7d9-8517474e8255"
      },
      "execution_count": 25,
      "outputs": [
        {
          "output_type": "stream",
          "name": "stdout",
          "text": [
            "slope =  [[0.50449191]]\n",
            "y-intercept =  [-5.93050482]\n"
          ]
        }
      ]
    },
    {
      "cell_type": "markdown",
      "source": [
        "**Part E** - Plot a scatter graph of the original data and a regression line on the same figure (example with dummy data shown below)\n",
        "\n",
        "![](https://drive.google.com/uc?export=view&id=1o_NAsNjfx7zAh9m-UjvWB3rta6uraKdY)"
      ],
      "metadata": {
        "id": "IIq-BQYp_i33"
      }
    },
    {
      "cell_type": "code",
      "source": [
        "x = data.loc[:, data.columns == 'Tail Length (cm)']\n",
        "y = data.loc[:, data.columns == 'Mass (kg)']\n",
        "plt.title(\"Tail Length vs Mass\")\n",
        "plt.xlabel(\"Tail Length(cm)\")\n",
        "plt.ylabel(\"Mass (Kg)\")\n",
        "plt.scatter(x, y);\n",
        "plt.plot(x_train,model.coef_*x_train+model.intercept_,color='red')\n",
        "plt.show()"
      ],
      "metadata": {
        "id": "jhz8gTYt_lCn",
        "colab": {
          "base_uri": "https://localhost:8080/",
          "height": 295
        },
        "outputId": "d265841d-624c-4bd4-fb80-c8e42827d0c8"
      },
      "execution_count": 26,
      "outputs": [
        {
          "output_type": "display_data",
          "data": {
            "text/plain": [
              "<Figure size 432x288 with 1 Axes>"
            ],
            "image/png": "[encoded data removed]"
          },
          "metadata": {
            "needs_background": "light"
          }
        }
      ]
    }
  ]
}
